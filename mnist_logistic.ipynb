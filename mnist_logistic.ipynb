{
 "cells": [
  {
   "cell_type": "code",
   "execution_count": 1,
   "metadata": {
    "collapsed": true
   },
   "outputs": [],
   "source": [
    "from time import time\n",
    "import logging\n",
    "import matplotlib.pyplot as plt\n",
    "from sklearn.model_selection import train_test_split\n",
    "from sklearn.model_selection import GridSearchCV\n",
    "from sklearn.datasets import load_digits\n",
    "from sklearn.metrics import classification_report\n",
    "from sklearn.metrics import confusion_matrix\n",
    "from sklearn.decomposition import PCA\n",
    "from sklearn.svm import SVC"
   ]
  },
  {
   "cell_type": "code",
   "execution_count": 2,
   "metadata": {
    "collapsed": true
   },
   "outputs": [],
   "source": [
    "digits = load_digits()"
   ]
  },
  {
   "cell_type": "code",
   "execution_count": 3,
   "metadata": {},
   "outputs": [
    {
     "data": {
      "text/plain": [
       "\"Optical Recognition of Handwritten Digits Data Set\\n===================================================\\n\\nNotes\\n-----\\nData Set Characteristics:\\n    :Number of Instances: 5620\\n    :Number of Attributes: 64\\n    :Attribute Information: 8x8 image of integer pixels in the range 0..16.\\n    :Missing Attribute Values: None\\n    :Creator: E. Alpaydin (alpaydin '@' boun.edu.tr)\\n    :Date: July; 1998\\n\\nThis is a copy of the test set of the UCI ML hand-written digits datasets\\nhttp://archive.ics.uci.edu/ml/datasets/Optical+Recognition+of+Handwritten+Digits\\n\\nThe data set contains images of hand-written digits: 10 classes where\\neach class refers to a digit.\\n\\nPreprocessing programs made available by NIST were used to extract\\nnormalized bitmaps of handwritten digits from a preprinted form. From a\\ntotal of 43 people, 30 contributed to the training set and different 13\\nto the test set. 32x32 bitmaps are divided into nonoverlapping blocks of\\n4x4 and the number of on pixels are counted in each block. This generates\\nan input matrix of 8x8 where each element is an integer in the range\\n0..16. This reduces dimensionality and gives invariance to small\\ndistortions.\\n\\nFor info on NIST preprocessing routines, see M. D. Garris, J. L. Blue, G.\\nT. Candela, D. L. Dimmick, J. Geist, P. J. Grother, S. A. Janet, and C.\\nL. Wilson, NIST Form-Based Handprint Recognition System, NISTIR 5469,\\n1994.\\n\\nReferences\\n----------\\n  - C. Kaynak (1995) Methods of Combining Multiple Classifiers and Their\\n    Applications to Handwritten Digit Recognition, MSc Thesis, Institute of\\n    Graduate Studies in Science and Engineering, Bogazici University.\\n  - E. Alpaydin, C. Kaynak (1998) Cascading Classifiers, Kybernetika.\\n  - Ken Tang and Ponnuthurai N. Suganthan and Xi Yao and A. Kai Qin.\\n    Linear dimensionalityreduction using relevance weighted LDA. School of\\n    Electrical and Electronic Engineering Nanyang Technological University.\\n    2005.\\n  - Claudio Gentile. A New Approximate Maximal Margin Classification\\n    Algorithm. NIPS. 2000.\\n\""
      ]
     },
     "execution_count": 3,
     "metadata": {},
     "output_type": "execute_result"
    }
   ],
   "source": [
    "digits.DESCR\n",
    "#it is a subset data from mnist dataset.."
   ]
  },
  {
   "cell_type": "code",
   "execution_count": 4,
   "metadata": {
    "collapsed": true
   },
   "outputs": [],
   "source": [
    "import numpy as np\n",
    "import pandas as pd\n",
    "y=digits.target\n",
    "x=digits.data\n",
    "img=digits.images"
   ]
  },
  {
   "cell_type": "code",
   "execution_count": 5,
   "metadata": {},
   "outputs": [
    {
     "data": {
      "text/plain": [
       "<matplotlib.figure.Figure at 0xb4baa90>"
      ]
     },
     "metadata": {},
     "output_type": "display_data"
    },
    {
     "data": {
      "image/png": "[encoded data removed]",
      "text/plain": [
       "<matplotlib.figure.Figure at 0xb4baac8>"
      ]
     },
     "metadata": {},
     "output_type": "display_data"
    }
   ],
   "source": [
    "xx, yy = np.meshgrid(np.arange(8), np.arange(8))\n",
    "plt.gray()\n",
    "plt.matshow(img[8])\n",
    "plt.show()"
   ]
  },
  {
   "cell_type": "code",
   "execution_count": 6,
   "metadata": {},
   "outputs": [
    {
     "name": "stdout",
     "output_type": "stream",
     "text": [
      "8\n"
     ]
    }
   ],
   "source": [
    "print(y[8])"
   ]
  },
  {
   "cell_type": "code",
   "execution_count": 7,
   "metadata": {},
   "outputs": [
    {
     "data": {
      "text/plain": [
       "LogisticRegressionCV(Cs=10, class_weight=None, cv=None, dual=False,\n",
       "           fit_intercept=True, intercept_scaling=1.0, max_iter=100,\n",
       "           multi_class='ovr', n_jobs=1, penalty='l2', random_state=None,\n",
       "           refit=True, scoring=None, solver='lbfgs', tol=0.0001, verbose=0)"
      ]
     },
     "execution_count": 7,
     "metadata": {},
     "output_type": "execute_result"
    }
   ],
   "source": [
    "#using sklearn's logistic regression\n",
    "import sklearn.linear_model\n",
    "clf = sklearn.linear_model.LogisticRegressionCV()\n",
    "clf.fit(x, y)"
   ]
  },
  {
   "cell_type": "code",
   "execution_count": 8,
   "metadata": {
    "collapsed": true
   },
   "outputs": [],
   "source": [
    "res=clf.predict(x)"
   ]
  },
  {
   "cell_type": "code",
   "execution_count": 9,
   "metadata": {
    "collapsed": true
   },
   "outputs": [],
   "source": [
    "#finding accuracy ie correctly classifying any variable as its right class it belongs to.\n",
    "accuracy=0.0;\n",
    "for i in range(len(res)):\n",
    "    if res[i]==y[i]:\n",
    "        accuracy += 1\n",
    "accuracy /= float(len(res))"
   ]
  },
  {
   "cell_type": "code",
   "execution_count": 10,
   "metadata": {},
   "outputs": [
    {
     "data": {
      "text/plain": [
       "0.9860879243183083"
      ]
     },
     "execution_count": 10,
     "metadata": {},
     "output_type": "execute_result"
    }
   ],
   "source": [
    "accuracy"
   ]
  },
  {
   "cell_type": "code",
   "execution_count": 11,
   "metadata": {},
   "outputs": [
    {
     "data": {
      "text/plain": [
       "array([[ 178.,    0.,    0.,    0.,    0.,    0.,    0.,    0.,    0.,\n",
       "           0.],\n",
       "       [   0.,  178.,    0.,    0.,    0.,    0.,    0.,    0.,    8.,\n",
       "           1.],\n",
       "       [   0.,    0.,  177.,    0.,    0.,    0.,    0.,    0.,    0.,\n",
       "           0.],\n",
       "       [   0.,    0.,    0.,  180.,    0.,    0.,    0.,    0.,    1.,\n",
       "           1.],\n",
       "       [   0.,    0.,    0.,    0.,  181.,    0.,    0.,    0.,    0.,\n",
       "           0.],\n",
       "       [   0.,    0.,    0.,    0.,    0.,  181.,    1.,    0.,    1.,\n",
       "           1.],\n",
       "       [   0.,    0.,    0.,    0.,    0.,    0.,  179.,    0.,    1.,\n",
       "           0.],\n",
       "       [   0.,    0.,    0.,    1.,    0.,    0.,    0.,  178.,    0.,\n",
       "           0.],\n",
       "       [   0.,    3.,    0.,    2.,    0.,    0.,    1.,    0.,  163.,\n",
       "           0.],\n",
       "       [   0.,    1.,    0.,    0.,    0.,    1.,    0.,    1.,    0.,\n",
       "         177.]])"
      ]
     },
     "execution_count": 11,
     "metadata": {},
     "output_type": "execute_result"
    }
   ],
   "source": [
    "#this is the confusion matrix shows us how each class is predicted correctly\n",
    "#the row headers are actual values and column headers are predicted classes\n",
    "confusion_mat=np.zeros([10,10])\n",
    "for i in range(len(res)):\n",
    "    confusion_mat[res[i]][y[i]] += 1.0\n",
    "confusion_mat\n",
    "#we see 1 is predicted as 8 many instances."
   ]
  },
  {
   "cell_type": "code",
   "execution_count": 12,
   "metadata": {
    "collapsed": true
   },
   "outputs": [],
   "source": [
    "import math\n",
    "##The sigmoid function adjusts the cost function hypothesis for binary classifiers exclusively.\n",
    "##for multiclass classifiers we make no.of models equal to the classes and the hypothesis\n",
    "##determines if it lies in that class or not\n",
    "def Sigmoid(z):\n",
    "    G_of_Z = float(1.0 / float((1.0 + math.exp(-1.0*z))))\n",
    "    return G_of_Z \n",
    "#this softmax is used for ann here it has no use.\n",
    "def Softmax(z):\n",
    "    exp_scores = np.exp(z)\n",
    "    return exp_scores"
   ]
  },
  {
   "cell_type": "code",
   "execution_count": 13,
   "metadata": {
    "collapsed": true
   },
   "outputs": [],
   "source": [
    "##This hypothesis will be used to calculate each instance of the Cost Function\n",
    "##it returns the predicted probablity of that data point classified as a class or not\n",
    "def Hypothesis(theta, x):\n",
    "    z = 0\n",
    "    for i in xrange(len(theta)):\n",
    "        z += (x[i]*theta[i])\n",
    "    prob=Sigmoid(z)\n",
    "    return prob"
   ]
  },
  {
   "cell_type": "code",
   "execution_count": 14,
   "metadata": {
    "collapsed": true
   },
   "outputs": [],
   "source": [
    "##For each member of the dataset, the result (Y) determines which variation of the cost function is used\n",
    "##The Y = 0 cost function punishes high probability estimations, and the Y = 1 it punishes low scores\n",
    "##The \"punishment\" makes the change in the gradient of ThetaCurrent - Average(CostFunction(Dataset)) greater\n",
    "##the cost function is sum(yi*log(hi)+(1-yi)*log(1-hi)) for all m data points average it and find the cost of each theta for \n",
    "##the error in the prediction\n",
    "def Cost_Function(X,Y,theta,m):\n",
    "    sumOfErrors = 0\n",
    "    for i in xrange(m):\n",
    "        xi = X[i]\n",
    "        hi = Hypothesis(theta,xi)\n",
    "        if Y[i] == 1:\n",
    "            error = Y[i] * math.log(hi)\n",
    "        elif Y[i] == 0:\n",
    "            error = (1-Y[i]) * math.log(1-hi)\n",
    "        sumOfErrors += error\n",
    "    const = -1/m\n",
    "    J = const * sumOfErrors\n",
    "    print(J)"
   ]
  },
  {
   "cell_type": "code",
   "execution_count": 15,
   "metadata": {
    "collapsed": true
   },
   "outputs": [],
   "source": [
    "#this function find the error term for each theta value\n",
    "#error for a theta= sum((hi-yi)*xij)*alpha/m for m data points \n",
    "#j is the x[i] component multiplied with the respective theta term.\n",
    "def Cost_Function_Derivative(X,Y,theta,j,m,alpha):\n",
    "    sumErrors = 0\n",
    "    for i in xrange(m):\n",
    "        xi = X[i]\n",
    "        xij = xi[j]\n",
    "        hi = Hypothesis(theta,X[i])\n",
    "        error = (hi - Y[i])*xij\n",
    "        sumErrors += error\n",
    "    m = len(Y)\n",
    "    constant = float(alpha)/float(m)\n",
    "    J = constant * sumErrors\n",
    "    return J"
   ]
  },
  {
   "cell_type": "code",
   "execution_count": 16,
   "metadata": {
    "collapsed": true
   },
   "outputs": [],
   "source": [
    "#thetaj=thetaj-d(cost function)/d(thetaj)\n",
    "#d(cost function)/d(thetaj) is the error found for each theta by Cost_Function_Derivative\n",
    "def Gradient_Descent(X,Y,theta,m,alpha):\n",
    "    new_theta = []\n",
    "    constant = alpha/m\n",
    "    for j in xrange(len(theta)):\n",
    "        CFDerivative = Cost_Function_Derivative(X,Y,theta,j,m,alpha)\n",
    "        new_theta_value = theta[j] - CFDerivative\n",
    "        new_theta.append(new_theta_value)\n",
    "    return new_theta"
   ]
  },
  {
   "cell_type": "code",
   "execution_count": 17,
   "metadata": {
    "collapsed": true
   },
   "outputs": [],
   "source": [
    "def Logistic_Regression(X,Y,alpha,theta,num_iters):\n",
    "    m = len(Y)\n",
    "    for x in xrange(num_iters):\n",
    "        new_theta = Gradient_Descent(X,Y,theta,m,alpha)\n",
    "        theta = new_theta\n",
    "        #if x % 5 == 0:\n",
    "            #here the cost function is used to present the final hypothesis of the model in the same form for each gradient-step iteration\n",
    "            #Cost_Function(X,Y,theta,m)\n",
    "    return theta"
   ]
  },
  {
   "cell_type": "code",
   "execution_count": 34,
   "metadata": {
    "collapsed": true
   },
   "outputs": [],
   "source": [
    "#dict1 is the y term for each class dict1[class] shows the binary values signifying if the data is of that class or not\n",
    "initial_theta = [0.0 for i in range(64)]\n",
    "alpha = 0.1\n",
    "iterations = 3\n",
    "dict1={}\n",
    "for i in range(10):\n",
    "    dict1[i]=[]\n",
    "    for j in range(len(y)):\n",
    "        if y[j]== i:\n",
    "            dict1[i].append(1)\n",
    "        else:\n",
    "            dict1[i].append(0)"
   ]
  },
  {
   "cell_type": "code",
   "execution_count": 35,
   "metadata": {},
   "outputs": [
    {
     "name": "stdout",
     "output_type": "stream",
     "text": [
      "finding weights for each pixel.....\n",
      "finished for digit no. 0.000000 \n",
      "finding weights for each pixel.....\n",
      "finished for digit no. 1.000000 \n",
      "finding weights for each pixel.....\n",
      "finished for digit no. 2.000000 \n",
      "finding weights for each pixel.....\n",
      "finished for digit no. 3.000000 \n",
      "finding weights for each pixel.....\n",
      "finished for digit no. 4.000000 \n",
      "finding weights for each pixel.....\n",
      "finished for digit no. 5.000000 \n",
      "finding weights for each pixel.....\n",
      "finished for digit no. 6.000000 \n",
      "finding weights for each pixel.....\n",
      "finished for digit no. 7.000000 \n",
      "finding weights for each pixel.....\n",
      "finished for digit no. 8.000000 \n",
      "finding weights for each pixel.....\n",
      "finished for digit no. 9.000000 \n"
     ]
    }
   ],
   "source": [
    "#finding theta for each classes classification.\n",
    "theta={}\n",
    "for i in range(10):\n",
    "    print('finding weights for each pixel.....')\n",
    "    theta[i]=Logistic_Regression(x,dict1[i],alpha,initial_theta,iterations)\n",
    "    print('finished for digit no. %f '%i)"
   ]
  },
  {
   "cell_type": "code",
   "execution_count": 36,
   "metadata": {
    "collapsed": true
   },
   "outputs": [],
   "source": [
    "#finding the probablities by forward propagating in the hypothesis and finding the argument or jth term having largest probablity\n",
    "#this highest probablity argument is the class you can classify the data point into.\n",
    "probarg=[]\n",
    "for i in range(len(y)):\n",
    "    maxarg=0\n",
    "    maxval=0\n",
    "    for j in range(10):\n",
    "        well=Hypothesis(theta[j],x[i])\n",
    "        if well>maxval:\n",
    "            maxarg=j\n",
    "            maxval=well\n",
    "    probarg.append(maxarg)"
   ]
  },
  {
   "cell_type": "code",
   "execution_count": 37,
   "metadata": {},
   "outputs": [
    {
     "data": {
      "text/plain": [
       "[0,\n",
       " 1,\n",
       " 1,\n",
       " 3,\n",
       " 4,\n",
       " 3,\n",
       " 6,\n",
       " 7,\n",
       " 8,\n",
       " 9,\n",
       " 0,\n",
       " 1,\n",
       " 2,\n",
       " ...]"
      ]
     },
     "execution_count": 37,
     "metadata": {},
     "output_type": "execute_result"
    }
   ],
   "source": [
    "probarg"
   ]
  },
  {
   "cell_type": "code",
   "execution_count": 38,
   "metadata": {
    "collapsed": true
   },
   "outputs": [],
   "source": [
    "accuracy=0.0;\n",
    "for i in range(len(probarg)):\n",
    "    if probarg[i]==y[i]:\n",
    "        accuracy += 1\n",
    "accuracy /= float(len(probarg))"
   ]
  },
  {
   "cell_type": "code",
   "execution_count": 39,
   "metadata": {},
   "outputs": [
    {
     "data": {
      "text/plain": [
       "0.8836950473010573"
      ]
     },
     "execution_count": 39,
     "metadata": {},
     "output_type": "execute_result"
    }
   ],
   "source": [
    "accuracy"
   ]
  },
  {
   "cell_type": "code",
   "execution_count": null,
   "metadata": {
    "collapsed": true
   },
   "outputs": [],
   "source": []
  }
 ],
 "metadata": {
  "kernelspec": {
   "display_name": "Python 2",
   "language": "python",
   "name": "python2"
  },
  "language_info": {
   "codemirror_mode": {
    "name": "ipython",
    "version": 2
   },
   "file_extension": ".py",
   "mimetype": "text/x-python",
   "name": "python",
   "nbconvert_exporter": "python",
   "pygments_lexer": "ipython2",
   "version": "2.7.13"
  }
 },
 "nbformat": 4,
 "nbformat_minor": 2
}
